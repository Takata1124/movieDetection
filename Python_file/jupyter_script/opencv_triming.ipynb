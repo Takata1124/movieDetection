{
 "cells": [
  {
   "cell_type": "code",
   "execution_count": null,
   "id": "886dcb0a",
   "metadata": {},
   "outputs": [],
   "source": [
    "import cv2\n",
    "import matplotlib.pyplot as plt"
   ]
  },
  {
   "cell_type": "code",
   "execution_count": null,
   "id": "c7b50d9c",
   "metadata": {},
   "outputs": [],
   "source": [
    "img = cv2.imread('./sample_people.png')\n",
    "print(img)"
   ]
  },
  {
   "cell_type": "code",
   "execution_count": null,
   "id": "79e534a2",
   "metadata": {},
   "outputs": [],
   "source": [
    "img_gray = cv2.cvtColor(img, cv2.COLOR_BGR2GRAY)\n",
    "print(img_gray)"
   ]
  },
  {
   "cell_type": "code",
   "execution_count": null,
   "id": "d0902138",
   "metadata": {},
   "outputs": [],
   "source": [
    "plt.imshow(cv2.cvtColor(img, cv2.COLOR_BGR2RGB))\n",
    "plt.show()"
   ]
  },
  {
   "cell_type": "code",
   "execution_count": null,
   "id": "23914bd2",
   "metadata": {},
   "outputs": [],
   "source": [
    "plt.imshow(cv2.cvtColor(img_gray, cv2.COLOR_BGR2RGB))\n",
    "plt.show()"
   ]
  },
  {
   "cell_type": "code",
   "execution_count": null,
   "id": "9eab0886",
   "metadata": {},
   "outputs": [],
   "source": [
    "face_cascade = cv2.CascadeClassifier('./haarcascade_frontalface_default.xml')"
   ]
  },
  {
   "cell_type": "code",
   "execution_count": null,
   "id": "176fb854",
   "metadata": {},
   "outputs": [],
   "source": [
    "face = face_cascade.detectMultiScale(img_gray)\n",
    "print(face)\n",
    "print(type(face))"
   ]
  },
  {
   "cell_type": "code",
   "execution_count": null,
   "id": "5edf95c9",
   "metadata": {},
   "outputs": [],
   "source": [
    "for x, y , w, h in face:\n",
    "    cv2.rectangle(img, (x, y), (x + w, y + h), (255, 0, 0), 2)"
   ]
  },
  {
   "cell_type": "code",
   "execution_count": null,
   "id": "4470b49f",
   "metadata": {},
   "outputs": [],
   "source": [
    "cv2.imwrite('./sample_after_people.png', img)"
   ]
  },
  {
   "cell_type": "code",
   "execution_count": null,
   "id": "9c8b3d19",
   "metadata": {},
   "outputs": [],
   "source": [
    "img_after = cv2.imread('./sample_after_people.png')\n",
    "\n",
    "plt.imshow(cv2.cvtColor(img_after, cv2.COLOR_BGR2RGB))\n",
    "plt.show()"
   ]
  },
  {
   "cell_type": "code",
   "execution_count": null,
   "id": "8305963d",
   "metadata": {},
   "outputs": [],
   "source": [
    "im2 = img_after[y:y+h, x:x+w]\n",
    "\n",
    "print(x)\n",
    "print(y)\n",
    "print(h)\n",
    "print(w)\n",
    "\n",
    "plt.imshow(cv2.cvtColor(im2, cv2.COLOR_BGR2RGB))\n",
    "cv2.imwrite('./sample_face_people.png', im2)\n",
    "plt.show()"
   ]
  }
 ],
 "metadata": {
  "kernelspec": {
   "display_name": "Tensorflow",
   "language": "python",
   "name": "tensorflow"
  },
  "language_info": {
   "codemirror_mode": {
    "name": "ipython",
    "version": 3
   },
   "file_extension": ".py",
   "mimetype": "text/x-python",
   "name": "python",
   "nbconvert_exporter": "python",
   "pygments_lexer": "ipython3",
   "version": "3.9.6"
  }
 },
 "nbformat": 4,
 "nbformat_minor": 5
}
