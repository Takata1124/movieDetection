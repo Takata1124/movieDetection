{
 "cells": [
  {
   "cell_type": "code",
   "execution_count": null,
   "id": "b770f1bc",
   "metadata": {},
   "outputs": [],
   "source": [
    "import cv2\n",
    "import glob\n",
    "import matplotlib.pyplot as plt\n",
    "import os"
   ]
  },
  {
   "cell_type": "code",
   "execution_count": null,
   "id": "b8244e5a",
   "metadata": {},
   "outputs": [],
   "source": [
    "file = glob.glob('./mask_images/*.jpeg')"
   ]
  },
  {
   "cell_type": "code",
   "execution_count": null,
   "id": "e4981779",
   "metadata": {},
   "outputs": [],
   "source": [
    "for num in range(len(file)):\n",
    "    print(num)\n",
    "\n",
    "    img = cv2.imread(file[num])\n",
    "    img_gray = cv2.cvtColor(img, cv2.COLOR_BGR2GRAY)\n",
    "\n",
    "    face_cascade = cv2.CascadeClassifier('./haarcascade_frontalface_default.xml')\n",
    "    face = face_cascade.detectMultiScale(img_gray)\n",
    "\n",
    "    i = -1\n",
    "\n",
    "    if face == ():\n",
    "        print(\"empty\")\n",
    "    else:\n",
    "        print(\"detect faces\")\n",
    "        print(face)\n",
    "\n",
    "        for x, y , w, h in face:\n",
    "    #         cv2.rectangle(img, (x, y), (x + w, y + h), (255, 0, 0), 2)\n",
    "            i = i + 1\n",
    "            im2 = img[y:y+h, x:x+w]\n",
    "            cv2.imwrite('./triming_mask_images_2/face_image_num{}_face{}.jpeg'.format(num, i), im2)\n",
    "\n",
    "    # plt.imshow(cv2.cvtColor(img, cv2.COLOR_BGR2RGB))\n",
    "    # plt.show()"
   ]
  },
  {
   "cell_type": "code",
   "execution_count": null,
   "id": "4c91e188",
   "metadata": {},
   "outputs": [],
   "source": [
    "rename_file = glob.glob('./total_triming_face_mask/*')"
   ]
  },
  {
   "cell_type": "code",
   "execution_count": null,
   "id": "82d2945f",
   "metadata": {},
   "outputs": [],
   "source": [
    "for i in range(len(rename_file)):\n",
    "    \n",
    "    oldpath = rename_file[i]\n",
    "    newpath = './total_triming_face_mask/face_original_image_{}.jpeg'.format(i)\n",
    "    \n",
    "    os.rename(oldpath, newpath)"
   ]
  },
  {
   "cell_type": "code",
   "execution_count": null,
   "id": "e6174c95",
   "metadata": {},
   "outputs": [],
   "source": [
    "file = glob.glob('./lfw/*/*.jpg')\n",
    "print(len(file))\n",
    "print(file)"
   ]
  },
  {
   "cell_type": "code",
   "execution_count": null,
   "id": "55630c22",
   "metadata": {},
   "outputs": [],
   "source": [
    "import random\n",
    "\n",
    "# file_a_name = random.choice(file)\n",
    "# print(file_a_name)\n",
    "\n",
    "file_random = []\n",
    "\n",
    "for i in range(500):\n",
    "    \n",
    "    file_a_name =  random.choice(file)\n",
    "    file_random.append(file_a_name)\n",
    "    \n",
    "print(file_random)"
   ]
  },
  {
   "cell_type": "code",
   "execution_count": null,
   "id": "932f51bd",
   "metadata": {},
   "outputs": [],
   "source": [
    "for num in range(len(file_random)):\n",
    "\n",
    "    img = cv2.imread(file_random[num])\n",
    "    img_gray = cv2.cvtColor(img, cv2.COLOR_BGR2GRAY)\n",
    "\n",
    "    face_cascade = cv2.CascadeClassifier('./haarcascade_frontalface_default.xml')\n",
    "    face = face_cascade.detectMultiScale(img_gray)\n",
    "\n",
    "    for x, y , w, h in face:\n",
    "#         cv2.rectangle(img, (x, y), (x + w, y + h), (255, 0, 0), 2)\n",
    "        im2 = img[y:y+h, x:x+w]\n",
    "        cv2.imwrite('./triming_face_images/face_image_face{}.jpg'.format(num), im2)\n",
    "\n",
    "#     plt.imshow(cv2.cvtColor(img, cv2.COLOR_BGR2RGB))\n",
    "#     plt.show()"
   ]
  }
 ],
 "metadata": {
  "kernelspec": {
   "display_name": "machine-learning",
   "language": "python",
   "name": "machine-learning"
  },
  "language_info": {
   "codemirror_mode": {
    "name": "ipython",
    "version": 3
   },
   "file_extension": ".py",
   "mimetype": "text/x-python",
   "name": "python",
   "nbconvert_exporter": "python",
   "pygments_lexer": "ipython3",
   "version": "3.9.10"
  }
 },
 "nbformat": 4,
 "nbformat_minor": 5
}
