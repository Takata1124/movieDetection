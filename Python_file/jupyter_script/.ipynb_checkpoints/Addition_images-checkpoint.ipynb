{
 "cells": [
  {
   "cell_type": "code",
   "execution_count": null,
   "id": "798d48f5",
   "metadata": {},
   "outputs": [],
   "source": [
    "# !pip install opencv-python"
   ]
  },
  {
   "cell_type": "code",
   "execution_count": null,
   "id": "3be6b487",
   "metadata": {},
   "outputs": [],
   "source": [
    "# !pip install matplotlib"
   ]
  },
  {
   "cell_type": "code",
   "execution_count": null,
   "id": "99fe9aff",
   "metadata": {},
   "outputs": [],
   "source": [
    "import glob\n",
    "import os\n",
    "\n",
    "# input_path = \"./total_triming_face_mask/\"\n",
    "# input_files = glob.glob(input_path + '/*.jpg')\n",
    "\n",
    "# output_path = \"./addtional_triming/\"\n",
    "# if os.path.isdir(output_path) == False:\n",
    "#     os.mkdir(output_path)"
   ]
  },
  {
   "cell_type": "code",
   "execution_count": null,
   "id": "56cecd42",
   "metadata": {},
   "outputs": [],
   "source": [
    "import cv2\n",
    "import numpy as np\n",
    "import matplotlib.pyplot as plt"
   ]
  },
  {
   "cell_type": "code",
   "execution_count": null,
   "id": "f8717920",
   "metadata": {},
   "outputs": [],
   "source": [
    "file = glob.glob('./image_folder/total_triming_face_mask/*.jpeg')"
   ]
  },
  {
   "cell_type": "code",
   "execution_count": null,
   "id": "ea7bbc73",
   "metadata": {},
   "outputs": [],
   "source": [
    "print(len(file))\n",
    "print(file)\n",
    "print(file[0])"
   ]
  },
  {
   "cell_type": "code",
   "execution_count": null,
   "id": "f41e4732",
   "metadata": {},
   "outputs": [],
   "source": [
    "img = cv2.imread(file[0])\n",
    "print(img)"
   ]
  },
  {
   "cell_type": "code",
   "execution_count": null,
   "id": "e7c1eba0",
   "metadata": {},
   "outputs": [],
   "source": [
    "plt.imshow(cv2.cvtColor(img, cv2.COLOR_BGR2RGB))\n",
    "plt.show()"
   ]
  },
  {
   "cell_type": "code",
   "execution_count": null,
   "id": "01d51c13",
   "metadata": {},
   "outputs": [],
   "source": [
    "img_flip_lr = cv2.flip(img, 1)\n",
    "print(img_flip_lr)"
   ]
  },
  {
   "cell_type": "code",
   "execution_count": null,
   "id": "a5e19bd0",
   "metadata": {},
   "outputs": [],
   "source": [
    "plt.imshow(cv2.cvtColor(img_flip_lr, cv2.COLOR_BGR2RGB))\n",
    "plt.show()"
   ]
  },
  {
   "cell_type": "code",
   "execution_count": null,
   "id": "774cf39a",
   "metadata": {},
   "outputs": [],
   "source": [
    "for num in range(len(file)):\n",
    "    \n",
    "    img = cv2.imread(file[num])\n",
    "#     上下反転\n",
    "    img_flip_ud = cv2.flip(img, 0)\n",
    "#     左右反転\n",
    "    img_flip_lr = cv2.flip(img, 1)\n",
    "#     上下左右反転\n",
    "    img_flip_ud_lr = cv2.flip(img, -1)\n",
    "    \n",
    "    cv2.imwrite('./image_folder/total_triming_face_mask/face_original_image_1-{}.jpeg'.format(num), img_flip_ud)\n",
    "    cv2.imwrite('./image_folder/total_triming_face_mask/face_original_image_2-{}.jpeg'.format(num), img_flip_lr)\n",
    "    cv2.imwrite('./image_folder/total_triming_face_mask/face_original_image_3-{}.jpeg'.format(num), img_flip_ud_lr)\n",
    "    "
   ]
  },
  {
   "cell_type": "code",
   "execution_count": null,
   "id": "ed949fc0",
   "metadata": {},
   "outputs": [],
   "source": [
    "print(len(file))\n",
    "print(file)"
   ]
  }
 ],
 "metadata": {
  "kernelspec": {
   "display_name": "jupyter-env-kernel",
   "language": "python",
   "name": "jupyter-env-kernel"
  },
  "language_info": {
   "codemirror_mode": {
    "name": "ipython",
    "version": 3
   },
   "file_extension": ".py",
   "mimetype": "text/x-python",
   "name": "python",
   "nbconvert_exporter": "python",
   "pygments_lexer": "ipython3",
   "version": "3.9.10"
  }
 },
 "nbformat": 4,
 "nbformat_minor": 5
}
