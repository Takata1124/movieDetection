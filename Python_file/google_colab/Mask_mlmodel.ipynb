{
  "nbformat": 4,
  "nbformat_minor": 0,
  "metadata": {
    "colab": {
      "name": "Mask_mlmodel.ipynb",
      "provenance": [],
      "collapsed_sections": []
    },
    "kernelspec": {
      "name": "python3",
      "display_name": "Python 3"
    },
    "language_info": {
      "name": "python"
    }
  },
  "cells": [
    {
      "cell_type": "markdown",
      "source": [
        "# **coding with google calab**"
      ],
      "metadata": {
        "id": "GpC-DwPwm-tD"
      }
    },
    {
      "cell_type": "code",
      "source": [
        "# from google.colab import drive\n",
        "# drive.mount('/content/drive')"
      ],
      "metadata": {
        "id": "sTKICxNqW1QI"
      },
      "execution_count": null,
      "outputs": []
    },
    {
      "cell_type": "code",
      "source": [
        "!pip install tensorflow==2.3.0 coremltools==5.1.0 pillow==7.0.0 h5py==2.10.0"
      ],
      "metadata": {
        "id": "SC4HaatvnYYK"
      },
      "execution_count": null,
      "outputs": []
    },
    {
      "cell_type": "code",
      "source": [
        "!pip install keras==2.7.0"
      ],
      "metadata": {
        "id": "VIdFk7ZjF_Jl"
      },
      "execution_count": null,
      "outputs": []
    },
    {
      "cell_type": "code",
      "source": [
        "import keras\n",
        "import glob\n",
        "import numpy as np\n",
        "import keras\n",
        "from keras.preprocessing.image import load_img, img_to_array\n",
        "from keras.models import Sequential\n",
        "from keras.layers import Conv2D, MaxPooling2D\n",
        "from keras.layers import Dense, Dropout, Flatten\n",
        "from keras.utils import np_utils #keras.utils.to_categoricalでエラーが出るので追加\n",
        "from tensorflow.keras.optimizers import Adam # 「tensorflow.」を追加\n",
        "import matplotlib.pyplot as plt\n",
        "import time\n",
        "import cv2\n",
        "import random\n",
        "import os\n",
        "import coremltools\n",
        "import coremltools as ct"
      ],
      "metadata": {
        "id": "iqn-EIQkps8Q"
      },
      "execution_count": null,
      "outputs": []
    },
    {
      "cell_type": "code",
      "source": [
        "train_data_path = './drive/MyDrive/image_folder/total_triming_face_mask'\n",
        "\n",
        "image_size = 25\n",
        "color_setting = 3"
      ],
      "metadata": {
        "id": "oSrGMX9XY-c2"
      },
      "execution_count": null,
      "outputs": []
    },
    {
      "cell_type": "code",
      "source": [
        "train_data_path = './drive/MyDrive/image_folder'\n",
        "\n",
        "folder_name = os.listdir(train_data_path)\n",
        "del folder_name[0]\n",
        "\n",
        "folder_number = len(folder_name)"
      ],
      "metadata": {
        "id": "zWKYLCJEZdLG"
      },
      "execution_count": null,
      "outputs": []
    },
    {
      "cell_type": "code",
      "source": [
        "x_images = []\n",
        "y_labels = []\n",
        "\n",
        "for index, name in enumerate(folder_name):\n",
        "    read_data = train_data_path + '/' + name\n",
        "    # print(read_data)\n",
        "    if name == folder_name[0]:\n",
        "        files = glob.glob(read_data + '/*.jpg')\n",
        "    else :\n",
        "        files = glob.glob(read_data + '/*.jpeg')\n",
        "    # print(files)\n",
        "\n",
        "    print(len(files))\n",
        "\n",
        "    for i, file in enumerate(files): \n",
        "        #入力画像のカラーに合わせる\n",
        "\n",
        "        img = load_img(file, color_mode = 'rgb' ,target_size=(image_size, image_size))  \n",
        "        array = img_to_array(img)\n",
        "        x_images.append(array)\n",
        "        y_labels.append(index)"
      ],
      "metadata": {
        "id": "KOhsP6u0iB9X"
      },
      "execution_count": null,
      "outputs": []
    },
    {
      "cell_type": "code",
      "source": [
        "x_images = np.array(x_images)\n",
        "y_labels = np.array(y_labels)\n"
      ],
      "metadata": {
        "id": "LcrctYetnGF-"
      },
      "execution_count": null,
      "outputs": []
    },
    {
      "cell_type": "code",
      "source": [
        "x_images = x_images.astype('float32') / 255"
      ],
      "metadata": {
        "id": "JzskYaWk1dya"
      },
      "execution_count": null,
      "outputs": []
    },
    {
      "cell_type": "code",
      "source": [
        "index_count = len(y_labels)\n",
        "\n",
        "count_array = []\n",
        "\n",
        "for num in range(index_count):\n",
        "    count_array.append(num)\n",
        "\n",
        "random_count_array = random.sample(count_array, len(count_array))\n",
        "\n",
        "x_images_shuffle = []\n",
        "y_labels_shuffle = []\n",
        "\n",
        "for i in range(index_count):\n",
        "    y_labels_shuffle.append(y_labels[random_count_array[i]])\n",
        "    x_images_shuffle.append(x_images[random_count_array[i]])\n",
        "\n",
        "plt.imshow(x_images_shuffle[2])\n",
        "plt.show()\n"
      ],
      "metadata": {
        "id": "vIhEiPR3vJFB"
      },
      "execution_count": null,
      "outputs": []
    },
    {
      "cell_type": "code",
      "source": [
        "total_count = len(y_labels)\n",
        "test_count = int(len(y_labels)/10) * 2\n",
        "train_count = total_count - test_count"
      ],
      "metadata": {
        "id": "LwiyZ3rQuhk8"
      },
      "execution_count": null,
      "outputs": []
    },
    {
      "cell_type": "code",
      "source": [
        "x_train = []\n",
        "y_train = []\n",
        "x_test = []\n",
        "y_test = []\n",
        "\n",
        "x_train = x_images_shuffle[test_count + 1 : total_count - 1]\n",
        "y_train = y_labels_shuffle[test_count + 1 : total_count - 1]\n",
        "x_test = x_images_shuffle[0 : test_count]\n",
        "y_test = y_labels_shuffle[0 : test_count]\n",
        "\n",
        "x_train = np.array(x_train)\n",
        "y_train = np.array(y_train)\n",
        "x_test = np.array(x_test)\n",
        "y_test = np.array(y_test)\n",
        "\n",
        "y_train = np_utils.to_categorical(y_train, folder_number)\n",
        "y_test = np_utils.to_categorical(y_test, folder_number)\n"
      ],
      "metadata": {
        "id": "cvxbCfHO3PhR"
      },
      "execution_count": null,
      "outputs": []
    },
    {
      "cell_type": "code",
      "source": [
        "model = Sequential()\n",
        "model.add(Conv2D(16, (3, 3), padding='same',\n",
        "          input_shape=(image_size, image_size, color_setting), activation='relu'))\n",
        "model.add(MaxPooling2D(pool_size=(2, 2)))               \n",
        "model.add(Conv2D(128, (3, 3), padding='same', activation='relu'))\n",
        "model.add(Conv2D(256, (3, 3), padding='same', activation='relu'))\n",
        "model.add(MaxPooling2D(pool_size=(2, 2)))                \n",
        "model.add(Dropout(0.5))                                   \n",
        "model.add(Flatten())\n",
        "model.add(Dense(128, activation='relu'))\n",
        "model.add(Dropout(0.25))                                 \n",
        "model.add(Dense(folder_number, activation='softmax'))\n",
        "\n",
        "model.summary()"
      ],
      "metadata": {
        "id": "xkbdDvRpCtOW"
      },
      "execution_count": null,
      "outputs": []
    },
    {
      "cell_type": "code",
      "source": [
        "model.compile(loss='categorical_crossentropy',\n",
        "              optimizer=Adam(),\n",
        "              metrics=['accuracy'])"
      ],
      "metadata": {
        "id": "LHAtqY4hC3b5"
      },
      "execution_count": null,
      "outputs": []
    },
    {
      "cell_type": "code",
      "source": [
        "history = model.fit(x_train,y_train, batch_size=50, epochs=20, verbose=1)"
      ],
      "metadata": {
        "id": "2wrh80bpHX2h"
      },
      "execution_count": null,
      "outputs": []
    },
    {
      "cell_type": "code",
      "source": [
        "plt.plot(history.history['accuracy'])\n",
        "plt.title('Model accuracy')\n",
        "plt.ylabel('Accuracy')\n",
        "plt.xlabel('Epoch')\n",
        "plt.grid()\n",
        "plt.legend(['Train', 'Validation'], loc='upper left')\n",
        "plt.show()"
      ],
      "metadata": {
        "id": "09YyM8FNHl0E"
      },
      "execution_count": null,
      "outputs": []
    },
    {
      "cell_type": "code",
      "source": [
        "plt.plot(history.history['loss'])\n",
        "plt.title('Model loss')\n",
        "plt.ylabel('Loss')\n",
        "plt.xlabel('Epoch')\n",
        "plt.grid()\n",
        "plt.legend(['Train', 'Validation'], loc='upper left')\n",
        "plt.show()"
      ],
      "metadata": {
        "id": "tqupnaI-NERS"
      },
      "execution_count": null,
      "outputs": []
    },
    {
      "cell_type": "code",
      "source": [
        "score = model.evaluate(x_test, y_test, verbose=0)\n",
        "print('Loss:', score[0], '（損失関数値 - 0に近いほど正解に近い）') \n",
        "print('Accuracy:', score[1] * 100, '%', '（精度 - 100% に近いほど正解に近い）') "
      ],
      "metadata": {
        "id": "FRY81sHJNPIj"
      },
      "execution_count": null,
      "outputs": []
    },
    {
      "cell_type": "code",
      "source": [
        "recognise_image_path = './mask_image_sample.jpeg'"
      ],
      "metadata": {
        "id": "TBAZcdKHNbWY"
      },
      "execution_count": null,
      "outputs": []
    },
    {
      "cell_type": "code",
      "source": [
        "img = cv2.imread(recognise_image_path, 1)  #ここを変更。モノクロ・グレースケールの場合は「0」。カラーの場合は「1」 。         \n",
        "img = cv2.resize(img, (image_size, image_size))\n",
        "plt.imshow(img)\n",
        "plt.gray()  #ここを変更。カラーの場合は「plt.gray()」を消す。モノクロ・グレースケールの場合は「plt.gray()」が無いと変な色になります。\n",
        "plt.show()"
      ],
      "metadata": {
        "id": "OygJJ6U-O6Dq"
      },
      "execution_count": null,
      "outputs": []
    },
    {
      "cell_type": "code",
      "source": [
        "img = img.reshape(image_size, image_size, color_setting).astype('float32')/255 "
      ],
      "metadata": {
        "id": "8q_dF2lXWe-g"
      },
      "execution_count": null,
      "outputs": []
    },
    {
      "cell_type": "code",
      "source": [
        "prediction = model.predict(np.array([img]), verbose=1)\n",
        "result = prediction[0]\n",
        "result_index = np.argmax(result)\n",
        "print(result)\n",
        "print(result_index)\n",
        "print(folder_name[result_index])"
      ],
      "metadata": {
        "id": "R0VYtnXrPfeB"
      },
      "execution_count": null,
      "outputs": []
    },
    {
      "cell_type": "code",
      "source": [
        "new_dir_path = './model'\n",
        "os.makedirs(new_dir_path, exist_ok=True)"
      ],
      "metadata": {
        "id": "xWdvWVa0ejyB"
      },
      "execution_count": null,
      "outputs": []
    },
    {
      "cell_type": "code",
      "source": [
        "model.save('./model/mark_classification.h5')"
      ],
      "metadata": {
        "id": "8lG2iL93epmU"
      },
      "execution_count": null,
      "outputs": []
    },
    {
      "cell_type": "code",
      "source": [
        "image_labels = [\n",
        "    'mask_off', \n",
        "    'mask_on',\n",
        "]\n",
        "\n",
        "classifier_config = ct.ClassifierConfig(image_labels)\n",
        "image_input = ct.ImageType(shape=(1, 25, 25, 3), scale=1/255)\n",
        "\n",
        "mlmodel = ct.convert(\"./model/mark_classification.h5\",  \n",
        "                     inputs=[image_input],\n",
        "                     classifier_config=classifier_config\n",
        "                     )\n",
        "\n",
        "mlmodel.save('./model/mask_model.mlmodel')"
      ],
      "metadata": {
        "id": "b7jSyBSIesq3"
      },
      "execution_count": null,
      "outputs": []
    },
    {
      "cell_type": "code",
      "source": [
        "coreml_model_path = './model/mask_model.mlmodel'\n",
        "spec = coremltools.utils.load_spec(coreml_model_path)\n",
        "builder = coremltools.models.neural_network.NeuralNetworkBuilder(spec=spec)\n",
        "builder.inspect_input_features()"
      ],
      "metadata": {
        "id": "BGHuKHIChA9P"
      },
      "execution_count": null,
      "outputs": []
    }
  ]
}