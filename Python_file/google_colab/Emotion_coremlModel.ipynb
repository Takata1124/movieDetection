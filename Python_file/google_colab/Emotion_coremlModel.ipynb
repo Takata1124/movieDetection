{
  "nbformat": 4,
  "nbformat_minor": 0,
  "metadata": {
    "colab": {
      "name": "Emotion_coremlModel.ipynb",
      "provenance": [],
      "collapsed_sections": []
    },
    "kernelspec": {
      "name": "python3",
      "display_name": "Python 3"
    },
    "language_info": {
      "name": "python"
    }
  },
  "cells": [
    {
      "cell_type": "code",
      "source": [
        "!pip install coremltools==5.1.0"
      ],
      "metadata": {
        "id": "uhcbLnESC4W6"
      },
      "execution_count": null,
      "outputs": []
    },
    {
      "cell_type": "code",
      "execution_count": null,
      "metadata": {
        "id": "TNjKxJ3Pv2qz"
      },
      "outputs": [],
      "source": [
        "import keras\n",
        "import numpy as np\n",
        "from keras.models import load_model\n",
        "from keras.preprocessing.image import load_img, img_to_array\n",
        "from keras.preprocessing import image\n",
        "import coremltools as ct"
      ]
    },
    {
      "cell_type": "code",
      "source": [
        "# classes = ['angry', 'disgust', 'fear', 'happy', 'sad', 'surprise', 'neutral']\n",
        "# image_path = './normal.jpeg'\n",
        "\n",
        "# img = load_img(image_path, grayscale=True , target_size=(28, 28))\n",
        "# img_array = image.img_to_array(img)\n",
        "# img_array = np.array(img_array)\n",
        "\n",
        "# img_array = img_array.astype('float32') / 255"
      ],
      "metadata": {
        "id": "51cqrbYk1jQN"
      },
      "execution_count": null,
      "outputs": []
    },
    {
      "cell_type": "code",
      "source": [
        "# model_path = './emotion_model.hdf5'"
      ],
      "metadata": {
        "id": "Yf9l3XQn1xRg"
      },
      "execution_count": null,
      "outputs": []
    },
    {
      "cell_type": "code",
      "source": [
        "# classify_model = load_model(model_path, compile=False)\n",
        " \n",
        "# prediction = classify_model.predict(np.array([img_array]), batch_size=2, verbose=1)\n",
        "# result = prediction[0]\n",
        "# result_index = np.argmax(result)\n",
        "# print(result)\n",
        "# print(classes[result_index])"
      ],
      "metadata": {
        "id": "3bO4-iCryEKW"
      },
      "execution_count": null,
      "outputs": []
    },
    {
      "cell_type": "code",
      "source": [
        "image_labels = [\n",
        "  'angry', \n",
        "  'disgust', \n",
        "  'fear', \n",
        "  'happy', \n",
        "  'sad', \n",
        "  'surprise', \n",
        "  'neutral'\n",
        "]\n",
        "\n",
        "classifier_config = ct.ClassifierConfig(image_labels)\n",
        "image_input = ct.ImageType(shape=(1, 28, 28, 1,), scale=1/255)\n",
        "\n",
        "mlmodel = ct.convert(\"emotion_model.hdf5\",  \n",
        "                     inputs=[image_input],\n",
        "                     classifier_config=classifier_config\n",
        "                     )\n",
        "\n",
        "mlmodel.save('emotion_model.mlmodel')"
      ],
      "metadata": {
        "id": "i8gxQL2cCGzg"
      },
      "execution_count": null,
      "outputs": []
    }
  ]
}